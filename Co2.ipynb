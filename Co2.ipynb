{
 "cells": [
  {
   "cell_type": "code",
   "execution_count": 24,
   "metadata": {},
   "outputs": [],
   "source": [
    "import numpy as np\n",
    "import pandas as pd"
   ]
  },
  {
   "cell_type": "code",
   "execution_count": 5,
   "metadata": {},
   "outputs": [],
   "source": [
    "import matplotlib.pyplot as plt "
   ]
  },
  {
   "cell_type": "code",
   "execution_count": 45,
   "metadata": {},
   "outputs": [],
   "source": [
    "import seaborn as sb"
   ]
  },
  {
   "cell_type": "code",
   "execution_count": 12,
   "metadata": {},
   "outputs": [],
   "source": [
    "years=[]\n",
    "for i in range(1990,2017,1):\n",
    "    years.append(i)"
   ]
  },
  {
   "cell_type": "markdown",
   "metadata": {},
   "source": [
    "#### co2 emissions tonnes per person"
   ]
  },
  {
   "cell_type": "code",
   "execution_count": 41,
   "metadata": {},
   "outputs": [],
   "source": [
    "co2_emissions_tonnes_per_person=pd.read_csv(\"co2_emissions_tonnes_per_person.csv\")"
   ]
  },
  {
   "cell_type": "code",
   "execution_count": 42,
   "metadata": {},
   "outputs": [
    {
     "data": {
      "text/html": [
       "<div>\n",
       "<style scoped>\n",
       "    .dataframe tbody tr th:only-of-type {\n",
       "        vertical-align: middle;\n",
       "    }\n",
       "\n",
       "    .dataframe tbody tr th {\n",
       "        vertical-align: top;\n",
       "    }\n",
       "\n",
       "    .dataframe thead th {\n",
       "        text-align: right;\n",
       "    }\n",
       "</style>\n",
       "<table border=\"1\" class=\"dataframe\">\n",
       "  <thead>\n",
       "    <tr style=\"text-align: right;\">\n",
       "      <th></th>\n",
       "      <th>country</th>\n",
       "      <th>1800</th>\n",
       "      <th>1801</th>\n",
       "      <th>1802</th>\n",
       "      <th>1803</th>\n",
       "      <th>1804</th>\n",
       "      <th>1805</th>\n",
       "      <th>1806</th>\n",
       "      <th>1807</th>\n",
       "      <th>1808</th>\n",
       "      <th>...</th>\n",
       "      <th>2009</th>\n",
       "      <th>2010</th>\n",
       "      <th>2011</th>\n",
       "      <th>2012</th>\n",
       "      <th>2013</th>\n",
       "      <th>2014</th>\n",
       "      <th>2015</th>\n",
       "      <th>2016</th>\n",
       "      <th>2017</th>\n",
       "      <th>2018</th>\n",
       "    </tr>\n",
       "  </thead>\n",
       "  <tbody>\n",
       "    <tr>\n",
       "      <th>51</th>\n",
       "      <td>Egypt</td>\n",
       "      <td>NaN</td>\n",
       "      <td>NaN</td>\n",
       "      <td>NaN</td>\n",
       "      <td>NaN</td>\n",
       "      <td>NaN</td>\n",
       "      <td>NaN</td>\n",
       "      <td>NaN</td>\n",
       "      <td>NaN</td>\n",
       "      <td>NaN</td>\n",
       "      <td>...</td>\n",
       "      <td>2.5</td>\n",
       "      <td>2.4</td>\n",
       "      <td>2.53</td>\n",
       "      <td>2.49</td>\n",
       "      <td>2.37</td>\n",
       "      <td>2.47</td>\n",
       "      <td>2.37</td>\n",
       "      <td>2.47</td>\n",
       "      <td>2.46</td>\n",
       "      <td>2.43</td>\n",
       "    </tr>\n",
       "  </tbody>\n",
       "</table>\n",
       "<p>1 rows × 220 columns</p>\n",
       "</div>"
      ],
      "text/plain": [
       "   country  1800  1801  1802  1803  1804  1805  1806  1807  1808  ...  2009  \\\n",
       "51   Egypt   NaN   NaN   NaN   NaN   NaN   NaN   NaN   NaN   NaN  ...   2.5   \n",
       "\n",
       "    2010  2011  2012  2013  2014  2015  2016  2017  2018  \n",
       "51   2.4  2.53  2.49  2.37  2.47  2.37  2.47  2.46  2.43  \n",
       "\n",
       "[1 rows x 220 columns]"
      ]
     },
     "execution_count": 42,
     "metadata": {},
     "output_type": "execute_result"
    }
   ],
   "source": [
    "co2_emissions_tonnes_per_person.query('country==\"Egypt\"')"
   ]
  },
  {
   "cell_type": "markdown",
   "metadata": {},
   "source": [
    "#### co2 emissions tonnes per person in egypt during the period [1990-2016]"
   ]
  },
  {
   "cell_type": "code",
   "execution_count": 43,
   "metadata": {},
   "outputs": [],
   "source": [
    "co2_emissions_tonnes_per_person_over_years=[1.34,1.35,1.36,1.54,1.39,1.52,1.47,1.66,1.84,1.85,2.04,1.77,1.76,2.01,2.01,2.19,2.29,2.38,2.45,2.5,2.4,2.53,2.49,2.37,2.47,2.37,2.47]"
   ]
  },
  {
   "cell_type": "code",
   "execution_count": 51,
   "metadata": {},
   "outputs": [
    {
     "data": {
      "text/plain": [
       "[<matplotlib.lines.Line2D at 0x1a17385fac8>]"
      ]
     },
     "execution_count": 51,
     "metadata": {},
     "output_type": "execute_result"
    },
    {
     "data": {
      "image/png": "[encoded data removed]",
      "text/plain": [
       "<Figure size 432x288 with 1 Axes>"
      ]
     },
     "metadata": {
      "needs_background": "light"
     },
     "output_type": "display_data"
    }
   ],
   "source": [
    "plt.plot(years,co2_emissions_tonnes_per_person_over_years)"
   ]
  },
  {
   "cell_type": "markdown",
   "metadata": {},
   "source": [
    "#### Lung cancer deaths in men during the period [1990,2016]"
   ]
  },
  {
   "cell_type": "code",
   "execution_count": 52,
   "metadata": {},
   "outputs": [],
   "source": [
    "lung_cancer_deaths_in_men=pd.read_csv(\"lung_cancer_number_of_male_deaths.csv\")"
   ]
  },
  {
   "cell_type": "code",
   "execution_count": 53,
   "metadata": {},
   "outputs": [
    {
     "data": {
      "text/html": [
       "<div>\n",
       "<style scoped>\n",
       "    .dataframe tbody tr th:only-of-type {\n",
       "        vertical-align: middle;\n",
       "    }\n",
       "\n",
       "    .dataframe tbody tr th {\n",
       "        vertical-align: top;\n",
       "    }\n",
       "\n",
       "    .dataframe thead th {\n",
       "        text-align: right;\n",
       "    }\n",
       "</style>\n",
       "<table border=\"1\" class=\"dataframe\">\n",
       "  <thead>\n",
       "    <tr style=\"text-align: right;\">\n",
       "      <th></th>\n",
       "      <th>country</th>\n",
       "      <th>1990</th>\n",
       "      <th>1991</th>\n",
       "      <th>1992</th>\n",
       "      <th>1993</th>\n",
       "      <th>1994</th>\n",
       "      <th>1995</th>\n",
       "      <th>1996</th>\n",
       "      <th>1997</th>\n",
       "      <th>1998</th>\n",
       "      <th>...</th>\n",
       "      <th>2007</th>\n",
       "      <th>2008</th>\n",
       "      <th>2009</th>\n",
       "      <th>2010</th>\n",
       "      <th>2011</th>\n",
       "      <th>2012</th>\n",
       "      <th>2013</th>\n",
       "      <th>2014</th>\n",
       "      <th>2015</th>\n",
       "      <th>2016</th>\n",
       "    </tr>\n",
       "  </thead>\n",
       "  <tbody>\n",
       "    <tr>\n",
       "      <th>51</th>\n",
       "      <td>Egypt</td>\n",
       "      <td>1310.0</td>\n",
       "      <td>1340.0</td>\n",
       "      <td>1360.0</td>\n",
       "      <td>1420.0</td>\n",
       "      <td>1490.0</td>\n",
       "      <td>1530.0</td>\n",
       "      <td>1590.0</td>\n",
       "      <td>1660.0</td>\n",
       "      <td>1690.0</td>\n",
       "      <td>...</td>\n",
       "      <td>2400.0</td>\n",
       "      <td>2520.0</td>\n",
       "      <td>2650.0</td>\n",
       "      <td>2750.0</td>\n",
       "      <td>2850.0</td>\n",
       "      <td>2910.0</td>\n",
       "      <td>2940.0</td>\n",
       "      <td>2990.0</td>\n",
       "      <td>3070.0</td>\n",
       "      <td>3160.0</td>\n",
       "    </tr>\n",
       "  </tbody>\n",
       "</table>\n",
       "<p>1 rows × 28 columns</p>\n",
       "</div>"
      ],
      "text/plain": [
       "   country    1990    1991    1992    1993    1994    1995    1996    1997  \\\n",
       "51   Egypt  1310.0  1340.0  1360.0  1420.0  1490.0  1530.0  1590.0  1660.0   \n",
       "\n",
       "      1998  ...    2007    2008    2009    2010    2011    2012    2013  \\\n",
       "51  1690.0  ...  2400.0  2520.0  2650.0  2750.0  2850.0  2910.0  2940.0   \n",
       "\n",
       "      2014    2015    2016  \n",
       "51  2990.0  3070.0  3160.0  \n",
       "\n",
       "[1 rows x 28 columns]"
      ]
     },
     "execution_count": 53,
     "metadata": {},
     "output_type": "execute_result"
    }
   ],
   "source": [
    "lung_cancer_deaths_in_men.query('country==\"Egypt\"')"
   ]
  },
  {
   "cell_type": "code",
   "execution_count": 56,
   "metadata": {},
   "outputs": [],
   "source": [
    "lung_cancer_deaths_in_men_over_years=[1310,1340,1360,1420,1490,1530,1590,1660,1690,1750,1800,1900,1980,2070,2140,2210,2320,2400,2520,2650,2750,2850,2910,2940,2990,3070,3160]"
   ]
  },
  {
   "cell_type": "code",
   "execution_count": 57,
   "metadata": {
    "scrolled": true
   },
   "outputs": [
    {
     "data": {
      "text/plain": [
       "[<matplotlib.lines.Line2D at 0x1a1738fde48>]"
      ]
     },
     "execution_count": 57,
     "metadata": {},
     "output_type": "execute_result"
    },
    {
     "data": {
      "image/png": "[encoded data removed]",
      "text/plain": [
       "<Figure size 432x288 with 1 Axes>"
      ]
     },
     "metadata": {
      "needs_background": "light"
     },
     "output_type": "display_data"
    }
   ],
   "source": [
    "plt.plot(years,lung_cancer_deaths_in_men_over_years)"
   ]
  },
  {
   "cell_type": "code",
   "execution_count": 70,
   "metadata": {
    "scrolled": true
   },
   "outputs": [
    {
     "data": {
      "text/plain": [
       "Text(0.5, 1.0, ' the realtionship bet. the co2 emissions tonnes per person and the lung cancer deaths in men over years')"
      ]
     },
     "execution_count": 70,
     "metadata": {},
     "output_type": "execute_result"
    },
    {
     "data": {
      "image/png": "[encoded data removed]",
      "text/plain": [
       "<Figure size 432x288 with 1 Axes>"
      ]
     },
     "metadata": {
      "needs_background": "light"
     },
     "output_type": "display_data"
    }
   ],
   "source": [
    "plt.plot(co2_emissions_tonnes_per_person_over_years,lung_cancer_deaths_in_men_over_years)\n",
    "plt.title(\" the realtionship bet. the co2 emissions tonnes per person and the lung cancer deaths in men over years\")"
   ]
  },
  {
   "cell_type": "markdown",
   "metadata": {},
   "source": [
    "### so it is obvious that there is a direct realtionship bet. the co2 emissions tonnes per person and the lung cancer deaths in men over years"
   ]
  },
  {
   "cell_type": "markdown",
   "metadata": {},
   "source": [
    "#### Lung cancer deaths in women during the period [1990,2016]"
   ]
  },
  {
   "cell_type": "code",
   "execution_count": 71,
   "metadata": {},
   "outputs": [],
   "source": [
    "lung_cancer_deaths_in_women=pd.read_csv(\"lung_cancer_number_of_female_deaths.csv\")"
   ]
  },
  {
   "cell_type": "code",
   "execution_count": 72,
   "metadata": {
    "scrolled": true
   },
   "outputs": [
    {
     "data": {
      "text/html": [
       "<div>\n",
       "<style scoped>\n",
       "    .dataframe tbody tr th:only-of-type {\n",
       "        vertical-align: middle;\n",
       "    }\n",
       "\n",
       "    .dataframe tbody tr th {\n",
       "        vertical-align: top;\n",
       "    }\n",
       "\n",
       "    .dataframe thead th {\n",
       "        text-align: right;\n",
       "    }\n",
       "</style>\n",
       "<table border=\"1\" class=\"dataframe\">\n",
       "  <thead>\n",
       "    <tr style=\"text-align: right;\">\n",
       "      <th></th>\n",
       "      <th>country</th>\n",
       "      <th>1990</th>\n",
       "      <th>1991</th>\n",
       "      <th>1992</th>\n",
       "      <th>1993</th>\n",
       "      <th>1994</th>\n",
       "      <th>1995</th>\n",
       "      <th>1996</th>\n",
       "      <th>1997</th>\n",
       "      <th>1998</th>\n",
       "      <th>...</th>\n",
       "      <th>2007</th>\n",
       "      <th>2008</th>\n",
       "      <th>2009</th>\n",
       "      <th>2010</th>\n",
       "      <th>2011</th>\n",
       "      <th>2012</th>\n",
       "      <th>2013</th>\n",
       "      <th>2014</th>\n",
       "      <th>2015</th>\n",
       "      <th>2016</th>\n",
       "    </tr>\n",
       "  </thead>\n",
       "  <tbody>\n",
       "    <tr>\n",
       "      <th>51</th>\n",
       "      <td>Egypt</td>\n",
       "      <td>541.0</td>\n",
       "      <td>554.0</td>\n",
       "      <td>570.0</td>\n",
       "      <td>591.0</td>\n",
       "      <td>611.0</td>\n",
       "      <td>629.0</td>\n",
       "      <td>653.0</td>\n",
       "      <td>677.0</td>\n",
       "      <td>697.0</td>\n",
       "      <td>...</td>\n",
       "      <td>970.0</td>\n",
       "      <td>1020.0</td>\n",
       "      <td>1070.0</td>\n",
       "      <td>1120.0</td>\n",
       "      <td>1140.0</td>\n",
       "      <td>1180.0</td>\n",
       "      <td>1200.0</td>\n",
       "      <td>1240.0</td>\n",
       "      <td>1280.0</td>\n",
       "      <td>1320.0</td>\n",
       "    </tr>\n",
       "  </tbody>\n",
       "</table>\n",
       "<p>1 rows × 28 columns</p>\n",
       "</div>"
      ],
      "text/plain": [
       "   country   1990   1991   1992   1993   1994   1995   1996   1997   1998  \\\n",
       "51   Egypt  541.0  554.0  570.0  591.0  611.0  629.0  653.0  677.0  697.0   \n",
       "\n",
       "    ...   2007    2008    2009    2010    2011    2012    2013    2014  \\\n",
       "51  ...  970.0  1020.0  1070.0  1120.0  1140.0  1180.0  1200.0  1240.0   \n",
       "\n",
       "      2015    2016  \n",
       "51  1280.0  1320.0  \n",
       "\n",
       "[1 rows x 28 columns]"
      ]
     },
     "execution_count": 72,
     "metadata": {},
     "output_type": "execute_result"
    }
   ],
   "source": [
    "lung_cancer_deaths_in_women.query('country==\"Egypt\"')"
   ]
  },
  {
   "cell_type": "code",
   "execution_count": 73,
   "metadata": {},
   "outputs": [],
   "source": [
    "lung_cancer_deaths_in_women_over_years=[541,554,570,591,611,629,653,677,697,718,738,769,798,829,861,898,934,970,1020,1070,1120,1140,1180,1200,1240,1280,1320]"
   ]
  },
  {
   "cell_type": "code",
   "execution_count": 74,
   "metadata": {
    "scrolled": true
   },
   "outputs": [
    {
     "data": {
      "text/plain": [
       "[<matplotlib.lines.Line2D at 0x1a170374a48>]"
      ]
     },
     "execution_count": 74,
     "metadata": {},
     "output_type": "execute_result"
    },
    {
     "data": {
      "image/png": "[encoded data removed]",
      "text/plain": [
       "<Figure size 432x288 with 1 Axes>"
      ]
     },
     "metadata": {
      "needs_background": "light"
     },
     "output_type": "display_data"
    }
   ],
   "source": [
    "plt.plot(years,lung_cancer_deaths_in_women_over_years)"
   ]
  },
  {
   "cell_type": "code",
   "execution_count": 84,
   "metadata": {},
   "outputs": [
    {
     "data": {
      "text/plain": [
       "Text(0, 0.5, 'no.of deaths over years')"
      ]
     },
     "execution_count": 84,
     "metadata": {},
     "output_type": "execute_result"
    },
    {
     "data": {
      "image/png": "[encoded data removed]",
      "text/plain": [
       "<Figure size 432x288 with 1 Axes>"
      ]
     },
     "metadata": {
      "needs_background": "light"
     },
     "output_type": "display_data"
    }
   ],
   "source": [
    "plt.plot(years,lung_cancer_deaths_in_women_over_years)\n",
    "plt.plot(years,lung_cancer_deaths_in_men_over_years)\n",
    "plt.legend([\"the no. of deaths in women\",\"the no. of deaths in men\"],loc=\"upper left\")\n",
    "plt.xlabel(\"years\")\n",
    "plt.ylabel(\"no.of deaths over years\")"
   ]
  },
  {
   "cell_type": "markdown",
   "metadata": {},
   "source": [
    "### so, there is an obvious variation in the numbers of deaths between women and men as men exposed to Co2 in their work (i.e factories) much more than women"
   ]
  },
  {
   "cell_type": "code",
   "execution_count": null,
   "metadata": {},
   "outputs": [],
   "source": []
  },
  {
   "cell_type": "markdown",
   "metadata": {},
   "source": [
    "#### consumption emissions tonnes per person"
   ]
  },
  {
   "cell_type": "code",
   "execution_count": 87,
   "metadata": {},
   "outputs": [],
   "source": [
    "consumption_emissions_tonnes_per_person=pd.read_csv(\"consumption_emissions_tonnes_per_person.csv\")"
   ]
  },
  {
   "cell_type": "code",
   "execution_count": 88,
   "metadata": {
    "scrolled": true
   },
   "outputs": [
    {
     "data": {
      "text/html": [
       "<div>\n",
       "<style scoped>\n",
       "    .dataframe tbody tr th:only-of-type {\n",
       "        vertical-align: middle;\n",
       "    }\n",
       "\n",
       "    .dataframe tbody tr th {\n",
       "        vertical-align: top;\n",
       "    }\n",
       "\n",
       "    .dataframe thead th {\n",
       "        text-align: right;\n",
       "    }\n",
       "</style>\n",
       "<table border=\"1\" class=\"dataframe\">\n",
       "  <thead>\n",
       "    <tr style=\"text-align: right;\">\n",
       "      <th></th>\n",
       "      <th>country</th>\n",
       "      <th>1990</th>\n",
       "      <th>1991</th>\n",
       "      <th>1992</th>\n",
       "      <th>1993</th>\n",
       "      <th>1994</th>\n",
       "      <th>1995</th>\n",
       "      <th>1996</th>\n",
       "      <th>1997</th>\n",
       "      <th>1998</th>\n",
       "      <th>...</th>\n",
       "      <th>2008</th>\n",
       "      <th>2009</th>\n",
       "      <th>2010</th>\n",
       "      <th>2011</th>\n",
       "      <th>2012</th>\n",
       "      <th>2013</th>\n",
       "      <th>2014</th>\n",
       "      <th>2015</th>\n",
       "      <th>2016</th>\n",
       "      <th>2017</th>\n",
       "    </tr>\n",
       "  </thead>\n",
       "  <tbody>\n",
       "    <tr>\n",
       "      <th>0</th>\n",
       "      <td>Albania</td>\n",
       "      <td>1.71</td>\n",
       "      <td>1.39</td>\n",
       "      <td>0.875</td>\n",
       "      <td>0.824</td>\n",
       "      <td>0.729</td>\n",
       "      <td>0.792</td>\n",
       "      <td>0.926</td>\n",
       "      <td>0.707</td>\n",
       "      <td>0.808</td>\n",
       "      <td>...</td>\n",
       "      <td>2.04</td>\n",
       "      <td>2.14</td>\n",
       "      <td>2.08</td>\n",
       "      <td>2.17</td>\n",
       "      <td>2.08</td>\n",
       "      <td>2.02</td>\n",
       "      <td>2.17</td>\n",
       "      <td>1.96</td>\n",
       "      <td>1.90</td>\n",
       "      <td>1.96</td>\n",
       "    </tr>\n",
       "    <tr>\n",
       "      <th>1</th>\n",
       "      <td>Argentina</td>\n",
       "      <td>3.20</td>\n",
       "      <td>3.40</td>\n",
       "      <td>3.520</td>\n",
       "      <td>3.420</td>\n",
       "      <td>3.480</td>\n",
       "      <td>3.490</td>\n",
       "      <td>3.670</td>\n",
       "      <td>3.820</td>\n",
       "      <td>3.830</td>\n",
       "      <td>...</td>\n",
       "      <td>4.41</td>\n",
       "      <td>4.07</td>\n",
       "      <td>4.33</td>\n",
       "      <td>4.47</td>\n",
       "      <td>4.48</td>\n",
       "      <td>4.58</td>\n",
       "      <td>4.62</td>\n",
       "      <td>4.70</td>\n",
       "      <td>4.60</td>\n",
       "      <td>4.59</td>\n",
       "    </tr>\n",
       "    <tr>\n",
       "      <th>2</th>\n",
       "      <td>Armenia</td>\n",
       "      <td>3.87</td>\n",
       "      <td>3.83</td>\n",
       "      <td>1.200</td>\n",
       "      <td>0.592</td>\n",
       "      <td>0.590</td>\n",
       "      <td>0.881</td>\n",
       "      <td>0.975</td>\n",
       "      <td>1.320</td>\n",
       "      <td>1.360</td>\n",
       "      <td>...</td>\n",
       "      <td>2.24</td>\n",
       "      <td>2.05</td>\n",
       "      <td>1.92</td>\n",
       "      <td>1.99</td>\n",
       "      <td>2.20</td>\n",
       "      <td>2.13</td>\n",
       "      <td>2.10</td>\n",
       "      <td>1.93</td>\n",
       "      <td>1.94</td>\n",
       "      <td>1.89</td>\n",
       "    </tr>\n",
       "    <tr>\n",
       "      <th>3</th>\n",
       "      <td>Australia</td>\n",
       "      <td>13.90</td>\n",
       "      <td>13.60</td>\n",
       "      <td>13.600</td>\n",
       "      <td>13.500</td>\n",
       "      <td>13.700</td>\n",
       "      <td>13.900</td>\n",
       "      <td>13.900</td>\n",
       "      <td>14.200</td>\n",
       "      <td>14.800</td>\n",
       "      <td>...</td>\n",
       "      <td>17.20</td>\n",
       "      <td>17.30</td>\n",
       "      <td>17.30</td>\n",
       "      <td>17.30</td>\n",
       "      <td>17.50</td>\n",
       "      <td>16.40</td>\n",
       "      <td>15.90</td>\n",
       "      <td>15.60</td>\n",
       "      <td>15.40</td>\n",
       "      <td>15.40</td>\n",
       "    </tr>\n",
       "    <tr>\n",
       "      <th>4</th>\n",
       "      <td>Austria</td>\n",
       "      <td>10.70</td>\n",
       "      <td>11.30</td>\n",
       "      <td>10.400</td>\n",
       "      <td>10.500</td>\n",
       "      <td>10.600</td>\n",
       "      <td>11.100</td>\n",
       "      <td>12.100</td>\n",
       "      <td>11.500</td>\n",
       "      <td>12.000</td>\n",
       "      <td>...</td>\n",
       "      <td>11.90</td>\n",
       "      <td>11.10</td>\n",
       "      <td>11.60</td>\n",
       "      <td>11.70</td>\n",
       "      <td>11.10</td>\n",
       "      <td>10.90</td>\n",
       "      <td>10.40</td>\n",
       "      <td>10.50</td>\n",
       "      <td>10.50</td>\n",
       "      <td>10.70</td>\n",
       "    </tr>\n",
       "  </tbody>\n",
       "</table>\n",
       "<p>5 rows × 29 columns</p>\n",
       "</div>"
      ],
      "text/plain": [
       "     country   1990   1991    1992    1993    1994    1995    1996    1997  \\\n",
       "0    Albania   1.71   1.39   0.875   0.824   0.729   0.792   0.926   0.707   \n",
       "1  Argentina   3.20   3.40   3.520   3.420   3.480   3.490   3.670   3.820   \n",
       "2    Armenia   3.87   3.83   1.200   0.592   0.590   0.881   0.975   1.320   \n",
       "3  Australia  13.90  13.60  13.600  13.500  13.700  13.900  13.900  14.200   \n",
       "4    Austria  10.70  11.30  10.400  10.500  10.600  11.100  12.100  11.500   \n",
       "\n",
       "     1998  ...   2008   2009   2010   2011   2012   2013   2014   2015   2016  \\\n",
       "0   0.808  ...   2.04   2.14   2.08   2.17   2.08   2.02   2.17   1.96   1.90   \n",
       "1   3.830  ...   4.41   4.07   4.33   4.47   4.48   4.58   4.62   4.70   4.60   \n",
       "2   1.360  ...   2.24   2.05   1.92   1.99   2.20   2.13   2.10   1.93   1.94   \n",
       "3  14.800  ...  17.20  17.30  17.30  17.30  17.50  16.40  15.90  15.60  15.40   \n",
       "4  12.000  ...  11.90  11.10  11.60  11.70  11.10  10.90  10.40  10.50  10.50   \n",
       "\n",
       "    2017  \n",
       "0   1.96  \n",
       "1   4.59  \n",
       "2   1.89  \n",
       "3  15.40  \n",
       "4  10.70  \n",
       "\n",
       "[5 rows x 29 columns]"
      ]
     },
     "execution_count": 88,
     "metadata": {},
     "output_type": "execute_result"
    }
   ],
   "source": [
    "consumption_emissions_tonnes_per_person.head()"
   ]
  },
  {
   "cell_type": "code",
   "execution_count": 60,
   "metadata": {
    "scrolled": true
   },
   "outputs": [
    {
     "data": {
      "text/html": [
       "<div>\n",
       "<style scoped>\n",
       "    .dataframe tbody tr th:only-of-type {\n",
       "        vertical-align: middle;\n",
       "    }\n",
       "\n",
       "    .dataframe tbody tr th {\n",
       "        vertical-align: top;\n",
       "    }\n",
       "\n",
       "    .dataframe thead th {\n",
       "        text-align: right;\n",
       "    }\n",
       "</style>\n",
       "<table border=\"1\" class=\"dataframe\">\n",
       "  <thead>\n",
       "    <tr style=\"text-align: right;\">\n",
       "      <th></th>\n",
       "      <th>country</th>\n",
       "      <th>1990</th>\n",
       "      <th>1991</th>\n",
       "      <th>1992</th>\n",
       "      <th>1993</th>\n",
       "      <th>1994</th>\n",
       "      <th>1995</th>\n",
       "      <th>1996</th>\n",
       "      <th>1997</th>\n",
       "      <th>1998</th>\n",
       "      <th>...</th>\n",
       "      <th>2008</th>\n",
       "      <th>2009</th>\n",
       "      <th>2010</th>\n",
       "      <th>2011</th>\n",
       "      <th>2012</th>\n",
       "      <th>2013</th>\n",
       "      <th>2014</th>\n",
       "      <th>2015</th>\n",
       "      <th>2016</th>\n",
       "      <th>2017</th>\n",
       "    </tr>\n",
       "  </thead>\n",
       "  <tbody>\n",
       "    <tr>\n",
       "      <th>31</th>\n",
       "      <td>Egypt</td>\n",
       "      <td>1.51</td>\n",
       "      <td>1.54</td>\n",
       "      <td>1.49</td>\n",
       "      <td>1.64</td>\n",
       "      <td>1.54</td>\n",
       "      <td>1.68</td>\n",
       "      <td>1.62</td>\n",
       "      <td>1.81</td>\n",
       "      <td>2.02</td>\n",
       "      <td>...</td>\n",
       "      <td>2.38</td>\n",
       "      <td>2.48</td>\n",
       "      <td>2.42</td>\n",
       "      <td>2.5</td>\n",
       "      <td>2.54</td>\n",
       "      <td>2.39</td>\n",
       "      <td>2.51</td>\n",
       "      <td>2.42</td>\n",
       "      <td>2.56</td>\n",
       "      <td>2.36</td>\n",
       "    </tr>\n",
       "  </tbody>\n",
       "</table>\n",
       "<p>1 rows × 29 columns</p>\n",
       "</div>"
      ],
      "text/plain": [
       "   country  1990  1991  1992  1993  1994  1995  1996  1997  1998  ...  2008  \\\n",
       "31   Egypt  1.51  1.54  1.49  1.64  1.54  1.68  1.62  1.81  2.02  ...  2.38   \n",
       "\n",
       "    2009  2010  2011  2012  2013  2014  2015  2016  2017  \n",
       "31  2.48  2.42   2.5  2.54  2.39  2.51  2.42  2.56  2.36  \n",
       "\n",
       "[1 rows x 29 columns]"
      ]
     },
     "execution_count": 60,
     "metadata": {},
     "output_type": "execute_result"
    }
   ],
   "source": [
    "consumption_emissions_tonnes_per_person.query('country==\"Egypt\"')"
   ]
  },
  {
   "cell_type": "markdown",
   "metadata": {},
   "source": [
    "#### consumption emissions tonnes per person ovr years in the period [1990-2016]"
   ]
  },
  {
   "cell_type": "code",
   "execution_count": 62,
   "metadata": {},
   "outputs": [],
   "source": [
    "consumption_emissions_tonnes_per_person_over_years=[1.51,1.54,1.49,1.64,1.54,1.68,1.62,1.81,2.02,2.06,2.17,1.9,1.89,2.05,1.97,2.24,2.26,2.29,2.38,2.48,2.42,2.5,2.54,2.39,2.51,2.42,2.56]"
   ]
  },
  {
   "cell_type": "code",
   "execution_count": 63,
   "metadata": {},
   "outputs": [
    {
     "data": {
      "text/plain": [
       "[<matplotlib.lines.Line2D at 0x1a1739dc548>]"
      ]
     },
     "execution_count": 63,
     "metadata": {},
     "output_type": "execute_result"
    },
    {
     "data": {
      "image/png": "[encoded data removed]",
      "text/plain": [
       "<Figure size 432x288 with 1 Axes>"
      ]
     },
     "metadata": {
      "needs_background": "light"
     },
     "output_type": "display_data"
    }
   ],
   "source": [
    "plt.plot(years,consumption_emissions_tonnes_per_person_over_years)"
   ]
  },
  {
   "cell_type": "code",
   "execution_count": 85,
   "metadata": {},
   "outputs": [
    {
     "data": {
      "text/plain": [
       "Text(0, 0.5, 'Consumption tonnes per person over years')"
      ]
     },
     "execution_count": 85,
     "metadata": {},
     "output_type": "execute_result"
    },
    {
     "data": {
      "image/png": "[encoded data removed]",
      "text/plain": [
       "<Figure size 432x288 with 1 Axes>"
      ]
     },
     "metadata": {
      "needs_background": "light"
     },
     "output_type": "display_data"
    }
   ],
   "source": [
    "plt.plot(co2_emissions_tonnes_per_person_over_years,consumption_emissions_tonnes_per_person_over_years)\n",
    "plt.xlabel(\"Co2 emissions tonnes per person over years\")\n",
    "plt.ylabel(\"Consumption tonnes per person over years\")"
   ]
  },
  {
   "cell_type": "code",
   "execution_count": null,
   "metadata": {},
   "outputs": [],
   "source": []
  },
  {
   "cell_type": "markdown",
   "metadata": {},
   "source": [
    "#### co2_intensity_of_economic_output_kg_co2_per_2011_ppp_of_gdp"
   ]
  },
  {
   "cell_type": "code",
   "execution_count": 25,
   "metadata": {},
   "outputs": [],
   "source": [
    "df1=pd.read_csv(\"co2_intensity_of_economic_output_kg_co2_per_2011_ppp_of_gdp.csv\")"
   ]
  },
  {
   "cell_type": "code",
   "execution_count": 26,
   "metadata": {
    "scrolled": false
   },
   "outputs": [
    {
     "data": {
      "text/html": [
       "<div>\n",
       "<style scoped>\n",
       "    .dataframe tbody tr th:only-of-type {\n",
       "        vertical-align: middle;\n",
       "    }\n",
       "\n",
       "    .dataframe tbody tr th {\n",
       "        vertical-align: top;\n",
       "    }\n",
       "\n",
       "    .dataframe thead th {\n",
       "        text-align: right;\n",
       "    }\n",
       "</style>\n",
       "<table border=\"1\" class=\"dataframe\">\n",
       "  <thead>\n",
       "    <tr style=\"text-align: right;\">\n",
       "      <th></th>\n",
       "      <th>country</th>\n",
       "      <th>1990</th>\n",
       "      <th>1991</th>\n",
       "      <th>1992</th>\n",
       "      <th>1993</th>\n",
       "      <th>1994</th>\n",
       "      <th>1995</th>\n",
       "      <th>1996</th>\n",
       "      <th>1997</th>\n",
       "      <th>1998</th>\n",
       "      <th>...</th>\n",
       "      <th>2007</th>\n",
       "      <th>2008</th>\n",
       "      <th>2009</th>\n",
       "      <th>2010</th>\n",
       "      <th>2011</th>\n",
       "      <th>2012</th>\n",
       "      <th>2013</th>\n",
       "      <th>2014</th>\n",
       "      <th>2015</th>\n",
       "      <th>2016</th>\n",
       "    </tr>\n",
       "  </thead>\n",
       "  <tbody>\n",
       "    <tr>\n",
       "      <th>0</th>\n",
       "      <td>Afghanistan</td>\n",
       "      <td>NaN</td>\n",
       "      <td>NaN</td>\n",
       "      <td>NaN</td>\n",
       "      <td>NaN</td>\n",
       "      <td>NaN</td>\n",
       "      <td>NaN</td>\n",
       "      <td>NaN</td>\n",
       "      <td>NaN</td>\n",
       "      <td>NaN</td>\n",
       "      <td>...</td>\n",
       "      <td>0.0537</td>\n",
       "      <td>0.0955</td>\n",
       "      <td>0.127</td>\n",
       "      <td>0.139</td>\n",
       "      <td>0.199</td>\n",
       "      <td>0.155</td>\n",
       "      <td>0.124</td>\n",
       "      <td>0.113</td>\n",
       "      <td>0.119</td>\n",
       "      <td>0.111</td>\n",
       "    </tr>\n",
       "    <tr>\n",
       "      <th>1</th>\n",
       "      <td>Albania</td>\n",
       "      <td>0.341</td>\n",
       "      <td>0.3680</td>\n",
       "      <td>0.2320</td>\n",
       "      <td>0.197</td>\n",
       "      <td>0.1500</td>\n",
       "      <td>0.143</td>\n",
       "      <td>0.127</td>\n",
       "      <td>0.109</td>\n",
       "      <td>0.1140</td>\n",
       "      <td>...</td>\n",
       "      <td>0.1420</td>\n",
       "      <td>0.1470</td>\n",
       "      <td>0.142</td>\n",
       "      <td>0.144</td>\n",
       "      <td>0.160</td>\n",
       "      <td>0.148</td>\n",
       "      <td>0.146</td>\n",
       "      <td>0.161</td>\n",
       "      <td>0.132</td>\n",
       "      <td>0.126</td>\n",
       "    </tr>\n",
       "    <tr>\n",
       "      <th>2</th>\n",
       "      <td>Algeria</td>\n",
       "      <td>0.347</td>\n",
       "      <td>0.3610</td>\n",
       "      <td>0.3590</td>\n",
       "      <td>0.377</td>\n",
       "      <td>0.3990</td>\n",
       "      <td>0.424</td>\n",
       "      <td>0.415</td>\n",
       "      <td>0.370</td>\n",
       "      <td>0.4310</td>\n",
       "      <td>...</td>\n",
       "      <td>0.3040</td>\n",
       "      <td>0.2990</td>\n",
       "      <td>0.324</td>\n",
       "      <td>0.307</td>\n",
       "      <td>0.303</td>\n",
       "      <td>0.315</td>\n",
       "      <td>0.317</td>\n",
       "      <td>0.330</td>\n",
       "      <td>0.335</td>\n",
       "      <td>0.318</td>\n",
       "    </tr>\n",
       "    <tr>\n",
       "      <th>3</th>\n",
       "      <td>Angola</td>\n",
       "      <td>0.075</td>\n",
       "      <td>0.0739</td>\n",
       "      <td>0.0801</td>\n",
       "      <td>0.117</td>\n",
       "      <td>0.0778</td>\n",
       "      <td>0.191</td>\n",
       "      <td>0.160</td>\n",
       "      <td>0.105</td>\n",
       "      <td>0.0997</td>\n",
       "      <td>...</td>\n",
       "      <td>0.1650</td>\n",
       "      <td>0.1510</td>\n",
       "      <td>0.162</td>\n",
       "      <td>0.162</td>\n",
       "      <td>0.165</td>\n",
       "      <td>0.169</td>\n",
       "      <td>0.159</td>\n",
       "      <td>0.202</td>\n",
       "      <td>0.154</td>\n",
       "      <td>0.159</td>\n",
       "    </tr>\n",
       "    <tr>\n",
       "      <th>4</th>\n",
       "      <td>Antigua and Barbuda</td>\n",
       "      <td>0.292</td>\n",
       "      <td>0.2710</td>\n",
       "      <td>0.2640</td>\n",
       "      <td>0.258</td>\n",
       "      <td>0.2390</td>\n",
       "      <td>0.256</td>\n",
       "      <td>0.256</td>\n",
       "      <td>0.255</td>\n",
       "      <td>0.2520</td>\n",
       "      <td>...</td>\n",
       "      <td>0.2380</td>\n",
       "      <td>0.2430</td>\n",
       "      <td>0.294</td>\n",
       "      <td>0.327</td>\n",
       "      <td>0.327</td>\n",
       "      <td>0.323</td>\n",
       "      <td>0.325</td>\n",
       "      <td>0.315</td>\n",
       "      <td>0.314</td>\n",
       "      <td>0.304</td>\n",
       "    </tr>\n",
       "  </tbody>\n",
       "</table>\n",
       "<p>5 rows × 28 columns</p>\n",
       "</div>"
      ],
      "text/plain": [
       "               country   1990    1991    1992   1993    1994   1995   1996  \\\n",
       "0          Afghanistan    NaN     NaN     NaN    NaN     NaN    NaN    NaN   \n",
       "1              Albania  0.341  0.3680  0.2320  0.197  0.1500  0.143  0.127   \n",
       "2              Algeria  0.347  0.3610  0.3590  0.377  0.3990  0.424  0.415   \n",
       "3               Angola  0.075  0.0739  0.0801  0.117  0.0778  0.191  0.160   \n",
       "4  Antigua and Barbuda  0.292  0.2710  0.2640  0.258  0.2390  0.256  0.256   \n",
       "\n",
       "    1997    1998  ...    2007    2008   2009   2010   2011   2012   2013  \\\n",
       "0    NaN     NaN  ...  0.0537  0.0955  0.127  0.139  0.199  0.155  0.124   \n",
       "1  0.109  0.1140  ...  0.1420  0.1470  0.142  0.144  0.160  0.148  0.146   \n",
       "2  0.370  0.4310  ...  0.3040  0.2990  0.324  0.307  0.303  0.315  0.317   \n",
       "3  0.105  0.0997  ...  0.1650  0.1510  0.162  0.162  0.165  0.169  0.159   \n",
       "4  0.255  0.2520  ...  0.2380  0.2430  0.294  0.327  0.327  0.323  0.325   \n",
       "\n",
       "    2014   2015   2016  \n",
       "0  0.113  0.119  0.111  \n",
       "1  0.161  0.132  0.126  \n",
       "2  0.330  0.335  0.318  \n",
       "3  0.202  0.154  0.159  \n",
       "4  0.315  0.314  0.304  \n",
       "\n",
       "[5 rows x 28 columns]"
      ]
     },
     "execution_count": 26,
     "metadata": {},
     "output_type": "execute_result"
    }
   ],
   "source": [
    "df1.head()"
   ]
  },
  {
   "cell_type": "code",
   "execution_count": 27,
   "metadata": {
    "scrolled": true
   },
   "outputs": [
    {
     "data": {
      "text/html": [
       "<div>\n",
       "<style scoped>\n",
       "    .dataframe tbody tr th:only-of-type {\n",
       "        vertical-align: middle;\n",
       "    }\n",
       "\n",
       "    .dataframe tbody tr th {\n",
       "        vertical-align: top;\n",
       "    }\n",
       "\n",
       "    .dataframe thead th {\n",
       "        text-align: right;\n",
       "    }\n",
       "</style>\n",
       "<table border=\"1\" class=\"dataframe\">\n",
       "  <thead>\n",
       "    <tr style=\"text-align: right;\">\n",
       "      <th></th>\n",
       "      <th>country</th>\n",
       "      <th>1990</th>\n",
       "      <th>1991</th>\n",
       "      <th>1992</th>\n",
       "      <th>1993</th>\n",
       "      <th>1994</th>\n",
       "      <th>1995</th>\n",
       "      <th>1996</th>\n",
       "      <th>1997</th>\n",
       "      <th>1998</th>\n",
       "      <th>...</th>\n",
       "      <th>2007</th>\n",
       "      <th>2008</th>\n",
       "      <th>2009</th>\n",
       "      <th>2010</th>\n",
       "      <th>2011</th>\n",
       "      <th>2012</th>\n",
       "      <th>2013</th>\n",
       "      <th>2014</th>\n",
       "      <th>2015</th>\n",
       "      <th>2016</th>\n",
       "    </tr>\n",
       "  </thead>\n",
       "  <tbody>\n",
       "    <tr>\n",
       "      <th>49</th>\n",
       "      <td>Egypt</td>\n",
       "      <td>0.221</td>\n",
       "      <td>0.225</td>\n",
       "      <td>0.223</td>\n",
       "      <td>0.25</td>\n",
       "      <td>0.22</td>\n",
       "      <td>0.236</td>\n",
       "      <td>0.222</td>\n",
       "      <td>0.242</td>\n",
       "      <td>0.259</td>\n",
       "      <td>...</td>\n",
       "      <td>0.261</td>\n",
       "      <td>0.255</td>\n",
       "      <td>0.254</td>\n",
       "      <td>0.237</td>\n",
       "      <td>0.25</td>\n",
       "      <td>0.247</td>\n",
       "      <td>0.236</td>\n",
       "      <td>0.243</td>\n",
       "      <td>0.23</td>\n",
       "      <td>0.234</td>\n",
       "    </tr>\n",
       "  </tbody>\n",
       "</table>\n",
       "<p>1 rows × 28 columns</p>\n",
       "</div>"
      ],
      "text/plain": [
       "   country   1990   1991   1992  1993  1994   1995   1996   1997   1998  ...  \\\n",
       "49   Egypt  0.221  0.225  0.223  0.25  0.22  0.236  0.222  0.242  0.259  ...   \n",
       "\n",
       "     2007   2008   2009   2010  2011   2012   2013   2014  2015   2016  \n",
       "49  0.261  0.255  0.254  0.237  0.25  0.247  0.236  0.243  0.23  0.234  \n",
       "\n",
       "[1 rows x 28 columns]"
      ]
     },
     "execution_count": 27,
     "metadata": {},
     "output_type": "execute_result"
    }
   ],
   "source": [
    "egypt_emission_due_to_economy=df1.query('country == \"Egypt\"')\n",
    "egypt_emission_due_to_economy"
   ]
  },
  {
   "cell_type": "code",
   "execution_count": 77,
   "metadata": {},
   "outputs": [
    {
     "data": {
      "text/plain": [
       "[<matplotlib.lines.Line2D at 0x1a174bd2c88>]"
      ]
     },
     "execution_count": 77,
     "metadata": {},
     "output_type": "execute_result"
    },
    {
     "data": {
      "image/png": "[encoded data removed]",
      "text/plain": [
       "<Figure size 432x288 with 1 Axes>"
      ]
     },
     "metadata": {
      "needs_background": "light"
     },
     "output_type": "display_data"
    }
   ],
   "source": [
    "egypt_emission_due_to_economy_over_years=[0.221,0.225,0.223,0.25,0.22,0.236,0.222,0.242,0.259,0.25,0.265,0.227,0.225,0.254,0.249,0.264,0.264,0.261,0.255,0.254,0.237,0.25,0.247,0.236,0.243,0.23,0.234]\n",
    "plt.plot(years,egypt_emission_due_to_economy_over_years)"
   ]
  },
  {
   "cell_type": "code",
   "execution_count": null,
   "metadata": {},
   "outputs": [],
   "source": []
  },
  {
   "cell_type": "code",
   "execution_count": null,
   "metadata": {},
   "outputs": [],
   "source": []
  },
  {
   "cell_type": "code",
   "execution_count": null,
   "metadata": {},
   "outputs": [],
   "source": []
  }
 ],
 "metadata": {
  "kernelspec": {
   "display_name": "Python 3",
   "language": "python",
   "name": "python3"
  },
  "language_info": {
   "codemirror_mode": {
    "name": "ipython",
    "version": 3
   },
   "file_extension": ".py",
   "mimetype": "text/x-python",
   "name": "python",
   "nbconvert_exporter": "python",
   "pygments_lexer": "ipython3",
   "version": "3.7.6"
  }
 },
 "nbformat": 4,
 "nbformat_minor": 4
}
